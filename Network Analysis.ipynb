{
  "nbformat": 4,
  "nbformat_minor": 0,
  "metadata": {
    "colab": {
      "name": "data_analysis.ipynb",
      "provenance": [],
      "collapsed_sections": [],
      "toc_visible": true
    },
    "kernelspec": {
      "name": "python3",
      "display_name": "Python 3"
    }
  },
  "cells": [
    {
      "cell_type": "markdown",
      "metadata": {
        "id": "djjEe34CXhqy"
      },
      "source": [
        "# **Network Analysis**\n",
        "\n",
        "Consider the Manufacturing Email data1, which is given in the following format: each row \"a b t\" denotes\n",
        "a contact (a temporal link) between node a and b at time step t. This contact network is sampled/measured\n",
        "once every 1 second. Thus, each time step has a duration of 1s, which is though not relevant for our analysis in\n",
        "this assignment. We denote this temporal network as Gdata.\n",
        "\n",
        "A. Explore properties of network G that is aggregated over all the T = 57791 steps. Specifically, the\n",
        "aggregated network G is composed of all the nodes that have ever appeared in the dataset and any two nodes\n",
        "are connected by a link if they have at least a contact over the whole period [0,T].\n",
        "\n",
        "Compute the following topological properties of G in 1-7 without considering the weight of any link and\n",
        "the link weight property in 8."
      ]
    },
    {
      "cell_type": "code",
      "metadata": {
        "id": "zskDYuStXgmP"
      },
      "source": [
        "import networkx as nx\n",
        "import csv\n",
        "import pandas as pd\n",
        "import numpy as np\n",
        "import matplotlib.pyplot as plt\n",
        "import scipy\n",
        "import math\n",
        "import seaborn as sns"
      ],
      "execution_count": 4,
      "outputs": []
    },
    {
      "cell_type": "code",
      "metadata": {
        "colab": {
          "base_uri": "https://localhost:8080/"
        },
        "id": "-AAgJOCaitfd",
        "outputId": "f3b3d61f-6f24-4061-cc87-9c5edcef2c1a"
      },
      "source": [
        "file_location = r'/content/manufacturing_emails_temporal_network.xlsx'\n",
        "raw_data = pd.read_excel(file_location)\n",
        "\n",
        "G = nx.convert_matrix.from_pandas_edgelist(raw_data, source = 'node1', target = 'node2')\n",
        "print(nx.info(G))\n"
      ],
      "execution_count": 5,
      "outputs": [
        {
          "output_type": "stream",
          "text": [
            "Name: \n",
            "Type: Graph\n",
            "Number of nodes: 167\n",
            "Number of edges: 3250\n",
            "Average degree:  38.9222\n"
          ],
          "name": "stdout"
        }
      ]
    },
    {
      "cell_type": "markdown",
      "metadata": {
        "id": "ptWoewsmmlTp"
      },
      "source": [
        "Question 1 - What is the number of nodes N, the number of links L, the average degree E[D] and standard deviation\n",
        "of the degree"
      ]
    },
    {
      "cell_type": "code",
      "metadata": {
        "colab": {
          "base_uri": "https://localhost:8080/"
        },
        "id": "suuc4HJwmPhw",
        "outputId": "694dc7d8-f295-4c4a-e200-ce6e34fc6e9c"
      },
      "source": [
        " #average degree\n",
        "np.mean(np.asarray(list(dict(G.degree()).values())))"
      ],
      "execution_count": 7,
      "outputs": [
        {
          "output_type": "execute_result",
          "data": {
            "text/plain": [
              "38.92215568862275"
            ]
          },
          "metadata": {
            "tags": []
          },
          "execution_count": 7
        }
      ]
    },
    {
      "cell_type": "code",
      "metadata": {
        "colab": {
          "base_uri": "https://localhost:8080/"
        },
        "id": "nCC0p-_ZmWO9",
        "outputId": "ab8946db-878f-452d-bdba-34ffc156f384"
      },
      "source": [
        "#standard deviation of degree\n",
        "np.std(np.asarray(list(dict(G.degree()).values())))"
      ],
      "execution_count": 9,
      "outputs": [
        {
          "output_type": "execute_result",
          "data": {
            "text/plain": [
              "31.52529523516606"
            ]
          },
          "metadata": {
            "tags": []
          },
          "execution_count": 9
        }
      ]
    },
    {
      "cell_type": "markdown",
      "metadata": {
        "id": "IlZLjQzhm_8g"
      },
      "source": [
        "Question 2 - Plot the degree distribution. Which network model, Erdos-Renyi (ER) random graphs or scale-free\n",
        "networks, could better model this network? Why?"
      ]
    },
    {
      "cell_type": "code",
      "metadata": {
        "colab": {
          "base_uri": "https://localhost:8080/",
          "height": 301
        },
        "id": "e5I9LokaqWm9",
        "outputId": "2d78be62-1065-4849-d71e-384e678913c1"
      },
      "source": [
        "plt.loglog(degrees[:], degree_freq[:],'go-',linestyle = 'None')\n",
        "plt.xlabel('Degree')\n",
        "plt.ylabel('Frequency')"
      ],
      "execution_count": 11,
      "outputs": [
        {
          "output_type": "execute_result",
          "data": {
            "text/plain": [
              "Text(0, 0.5, 'Frequency')"
            ]
          },
          "metadata": {
            "tags": []
          },
          "execution_count": 11
        },
        {
          "output_type": "display_data",
          "data": {
            "image/png": "[encoded data removed]",
            "text/plain": [
              "<Figure size 432x288 with 1 Axes>"
            ]
          },
          "metadata": {
            "tags": [],
            "needs_background": "light"
          }
        }
      ]
    },
    {
      "cell_type": "markdown",
      "metadata": {
        "id": "Cv5HVUs6ZYzw"
      },
      "source": [
        "Scale Free due to power law distribution"
      ]
    },
    {
      "cell_type": "markdown",
      "metadata": {
        "id": "aXsdYpAomxK9"
      },
      "source": [
        "Question 3 - What is the degree correlation (assortativity) ?\n"
      ]
    },
    {
      "cell_type": "code",
      "metadata": {
        "colab": {
          "base_uri": "https://localhost:8080/"
        },
        "id": "wNgNqDh5mzkt",
        "outputId": "4fe8433e-9a78-4b88-f78b-68fb8437342f"
      },
      "source": [
        "nx.degree_assortativity_coefficient(G)"
      ],
      "execution_count": null,
      "outputs": [
        {
          "output_type": "execute_result",
          "data": {
            "text/plain": [
              "-0.29517729789301855"
            ]
          },
          "metadata": {
            "tags": []
          },
          "execution_count": 24
        }
      ]
    },
    {
      "cell_type": "markdown",
      "metadata": {
        "id": "j2Iyb9i0m5EO"
      },
      "source": [
        "Question 4 - What is the clustering coe\u000ecient C?"
      ]
    },
    {
      "cell_type": "code",
      "metadata": {
        "colab": {
          "base_uri": "https://localhost:8080/"
        },
        "id": "H181cPaUhUHE",
        "outputId": "1fab8683-329a-4b91-d100-333166b2fb70"
      },
      "source": [
        "nx.average_clustering(G)"
      ],
      "execution_count": null,
      "outputs": [
        {
          "output_type": "execute_result",
          "data": {
            "text/plain": [
              "0.5918632085486949"
            ]
          },
          "metadata": {
            "tags": []
          },
          "execution_count": 25
        }
      ]
    },
    {
      "cell_type": "markdown",
      "metadata": {
        "id": "XFDQ117EnNhH"
      },
      "source": [
        "Question 5 - What is the average hopcount E[H] of the shortest paths between all node pairs? What is the diameter?"
      ]
    },
    {
      "cell_type": "code",
      "metadata": {
        "colab": {
          "base_uri": "https://localhost:8080/"
        },
        "id": "vBtUQ1HGhZN5",
        "outputId": "8a7d6517-64ba-424e-d57d-38128627ceb1"
      },
      "source": [
        "nx.average_shortest_path_length(G)"
      ],
      "execution_count": null,
      "outputs": [
        {
          "output_type": "execute_result",
          "data": {
            "text/plain": [
              "1.9673905201644903"
            ]
          },
          "metadata": {
            "tags": []
          },
          "execution_count": 26
        }
      ]
    },
    {
      "cell_type": "code",
      "metadata": {
        "colab": {
          "base_uri": "https://localhost:8080/"
        },
        "id": "niay3p-bhwT7",
        "outputId": "00cba77c-76b5-4a57-c3b4-342c7f788f0a"
      },
      "source": [
        "nx.diameter(G)"
      ],
      "execution_count": null,
      "outputs": [
        {
          "output_type": "execute_result",
          "data": {
            "text/plain": [
              "5"
            ]
          },
          "metadata": {
            "tags": []
          },
          "execution_count": 27
        }
      ]
    },
    {
      "cell_type": "markdown",
      "metadata": {
        "id": "SftwMylknVEA"
      },
      "source": [
        "Question 6 - Does this network have the small-world property? "
      ]
    },
    {
      "cell_type": "code",
      "metadata": {
        "id": "8t6PPqwkhyeC"
      },
      "source": [
        "G_random = nx.gnm_random_graph(len(G.nodes()), len(G.edges()))"
      ],
      "execution_count": null,
      "outputs": []
    },
    {
      "cell_type": "code",
      "metadata": {
        "colab": {
          "base_uri": "https://localhost:8080/"
        },
        "id": "JZCRCev5ikCT",
        "outputId": "1f9c0b64-7e72-47e2-cb30-1dcf62b3d309"
      },
      "source": [
        "print(nx.average_clustering(G_random))\n",
        "print(nx.average_shortest_path_length(G_random))\n"
      ],
      "execution_count": null,
      "outputs": [
        {
          "output_type": "stream",
          "text": [
            "0.23452760127763472\n",
            "1.7656013274655509\n"
          ],
          "name": "stdout"
        }
      ]
    },
    {
      "cell_type": "markdown",
      "metadata": {
        "id": "odVK7rxzZ1QY"
      },
      "source": [
        "Average hopcount is comparable and clustering coefficient is much higher (double). So it is a small world network"
      ]
    },
    {
      "cell_type": "markdown",
      "metadata": {
        "id": "8MErSccrnYfp"
      },
      "source": [
        "Question 7 - What is the largest eigenvalue (spectral radius) of the adjacency matrix?"
      ]
    },
    {
      "cell_type": "code",
      "metadata": {
        "colab": {
          "base_uri": "https://localhost:8080/"
        },
        "id": "oZq6kgL5jBu6",
        "outputId": "57967127-ae37-44f8-ec5e-53485162d3ce"
      },
      "source": [
        "adj_mat = nx.adjacency_matrix(G)\n",
        "np_adj = scipy.sparse.csr_matrix.toarray(adj_mat)\n",
        "np.max(np.linalg.eig(np_adj)[0])"
      ],
      "execution_count": null,
      "outputs": [
        {
          "output_type": "execute_result",
          "data": {
            "text/plain": [
              "(60.63926551053451+0j)"
            ]
          },
          "metadata": {
            "tags": []
          },
          "execution_count": 30
        }
      ]
    },
    {
      "cell_type": "markdown",
      "metadata": {
        "id": "l1VcynUhnbNd"
      },
      "source": [
        "Question 8 - Consider further the weight of each link in G, which is the total number of contacts between the corre-\n",
        "sponding two nodes within [0,T]. Plot the distribution of all the link weights (Choose the scales of the two axes\n",
        "and the bins/bin-size for the distribution such that the plot is insightful for interpretation). Does it follow a\n",
        "power-law distribution? Why?"
      ]
    },
    {
      "cell_type": "code",
      "metadata": {
        "id": "yWjulpJMkcqo",
        "colab": {
          "base_uri": "https://localhost:8080/",
          "height": 406
        },
        "outputId": "66c8bba3-e2f3-4199-b070-e3d74c37de98"
      },
      "source": [
        "raw_data_timeless = raw_data[['node1','node2']]\n",
        "df = raw_data_timeless.groupby(['node1','node2']).size()\n",
        "grouped_weight = pd.DataFrame(df).reset_index()\n",
        "grouped_weight.columns = ['node1','node2','weight']\n",
        "weighted_graph = nx.from_pandas_edgelist(grouped_weight,source='node1',target='node2',edge_attr='weight')\n",
        "\n",
        "weights_dist = grouped_weight['weight'].sort_values(ascending=False)\n",
        "weight_range = range(len(weights_dist))\n",
        "weights_dist.head()\n",
        "\n",
        "grouped_weight"
      ],
      "execution_count": 12,
      "outputs": [
        {
          "output_type": "execute_result",
          "data": {
            "text/html": [
              "<div>\n",
              "<style scoped>\n",
              "    .dataframe tbody tr th:only-of-type {\n",
              "        vertical-align: middle;\n",
              "    }\n",
              "\n",
              "    .dataframe tbody tr th {\n",
              "        vertical-align: top;\n",
              "    }\n",
              "\n",
              "    .dataframe thead th {\n",
              "        text-align: right;\n",
              "    }\n",
              "</style>\n",
              "<table border=\"1\" class=\"dataframe\">\n",
              "  <thead>\n",
              "    <tr style=\"text-align: right;\">\n",
              "      <th></th>\n",
              "      <th>node1</th>\n",
              "      <th>node2</th>\n",
              "      <th>weight</th>\n",
              "    </tr>\n",
              "  </thead>\n",
              "  <tbody>\n",
              "    <tr>\n",
              "      <th>0</th>\n",
              "      <td>1</td>\n",
              "      <td>2</td>\n",
              "      <td>98</td>\n",
              "    </tr>\n",
              "    <tr>\n",
              "      <th>1</th>\n",
              "      <td>1</td>\n",
              "      <td>3</td>\n",
              "      <td>98</td>\n",
              "    </tr>\n",
              "    <tr>\n",
              "      <th>2</th>\n",
              "      <td>1</td>\n",
              "      <td>4</td>\n",
              "      <td>125</td>\n",
              "    </tr>\n",
              "    <tr>\n",
              "      <th>3</th>\n",
              "      <td>1</td>\n",
              "      <td>5</td>\n",
              "      <td>90</td>\n",
              "    </tr>\n",
              "    <tr>\n",
              "      <th>4</th>\n",
              "      <td>1</td>\n",
              "      <td>6</td>\n",
              "      <td>175</td>\n",
              "    </tr>\n",
              "    <tr>\n",
              "      <th>...</th>\n",
              "      <td>...</td>\n",
              "      <td>...</td>\n",
              "      <td>...</td>\n",
              "    </tr>\n",
              "    <tr>\n",
              "      <th>3245</th>\n",
              "      <td>117</td>\n",
              "      <td>151</td>\n",
              "      <td>3</td>\n",
              "    </tr>\n",
              "    <tr>\n",
              "      <th>3246</th>\n",
              "      <td>121</td>\n",
              "      <td>124</td>\n",
              "      <td>4</td>\n",
              "    </tr>\n",
              "    <tr>\n",
              "      <th>3247</th>\n",
              "      <td>122</td>\n",
              "      <td>140</td>\n",
              "      <td>58</td>\n",
              "    </tr>\n",
              "    <tr>\n",
              "      <th>3248</th>\n",
              "      <td>136</td>\n",
              "      <td>155</td>\n",
              "      <td>1</td>\n",
              "    </tr>\n",
              "    <tr>\n",
              "      <th>3249</th>\n",
              "      <td>146</td>\n",
              "      <td>147</td>\n",
              "      <td>8</td>\n",
              "    </tr>\n",
              "  </tbody>\n",
              "</table>\n",
              "<p>3250 rows × 3 columns</p>\n",
              "</div>"
            ],
            "text/plain": [
              "      node1  node2  weight\n",
              "0         1      2      98\n",
              "1         1      3      98\n",
              "2         1      4     125\n",
              "3         1      5      90\n",
              "4         1      6     175\n",
              "...     ...    ...     ...\n",
              "3245    117    151       3\n",
              "3246    121    124       4\n",
              "3247    122    140      58\n",
              "3248    136    155       1\n",
              "3249    146    147       8\n",
              "\n",
              "[3250 rows x 3 columns]"
            ]
          },
          "metadata": {
            "tags": []
          },
          "execution_count": 12
        }
      ]
    },
    {
      "cell_type": "code",
      "metadata": {
        "colab": {
          "base_uri": "https://localhost:8080/",
          "height": 301
        },
        "id": "Ky7fB1X19Mbx",
        "outputId": "69d378f2-9535-47d4-8759-a84b7c01b47f"
      },
      "source": [
        "plt.figure(figsize=(6, 4)) \n",
        "\n",
        "plt.loglog(weight_range[:], weights_dist[:],'go-',linestyle = 'None')\n",
        "plt.xlabel('Weight')\n",
        "plt.ylabel('Frequency')\n",
        "\n",
        "#Follows Power Law"
      ],
      "execution_count": 13,
      "outputs": [
        {
          "output_type": "execute_result",
          "data": {
            "text/plain": [
              "Text(0, 0.5, 'Frequency')"
            ]
          },
          "metadata": {
            "tags": []
          },
          "execution_count": 13
        },
        {
          "output_type": "display_data",
          "data": {
            "image/png": "[encoded data removed]",
            "text/plain": [
              "<Figure size 432x288 with 1 Axes>"
            ]
          },
          "metadata": {
            "tags": [],
            "needs_background": "light"
          }
        }
      ]
    },
    {
      "cell_type": "markdown",
      "metadata": {
        "id": "OY0b0UI1bG6Q"
      },
      "source": [
        "# **B. Information spreading on a temporal network**\n",
        "We consider the following information spreading process, which is actually a simplified Susceptible-Infected\n",
        "model but on a temporal network. Initially, at time t = 0, a single node s is infected meaning that this\n",
        "node possesses the information whereas all the other nodes are Susceptible, thus have not yet perceived the\n",
        "information. Nodes is also called the seed of the information. Whenever an infected node i is in contact with\n",
        "a susceptible node j at any time step t, the susceptible node becomes infected during the same time step and\n",
        "could possibly infect other nodes only since the next time step via its contacts with susceptible nodes. Once a\n",
        "node becomes infected, it stays infected forever. For example, assume that the seed node has its first contact at\n",
        "time t = 5 and that contact is with node m. Although node s gets infected since t = 0, it infects a second node,\n",
        "i.e. node m only at t = 5 when it contacts m. Infection happens only when an infected node and a susceptible\n",
        "node are in contact. The number of infected nodes is non-decreasing over time.\n",
        "\n",
        "Simulate the information spreading process on the given temporal network Gdata for N iterations. Each\n",
        "iteration starts with a di\u000berent seed node infected at t = 0 and ends at t = T = 57791 the last time step that\n",
        "the network is measured. Via the N iterations, we consider the spreading process that starts at every node\n",
        "i in [1,N]. Record the number of infected nodes I(t) over time t for each iteration."
      ]
    },
    {
      "cell_type": "code",
      "metadata": {
        "id": "47ddwVM_j5Os"
      },
      "source": [
        "raw_data_infected = raw_data"
      ],
      "execution_count": null,
      "outputs": []
    },
    {
      "cell_type": "code",
      "metadata": {
        "id": "yaZj9CaxCh_k"
      },
      "source": [
        "# A very inefficient implementation\n",
        "def infection_simulation(G):\n",
        "  dict_values = dict()\n",
        "  for g in list(G.nodes()):\n",
        "    infected = g\n",
        "    infected_list = []\n",
        "    infected_list.append(infected)\n",
        "    print(\"Starting infected Node\",g)\n",
        "\n",
        "    dict_timestamps = dict()\n",
        "    for t in raw_data_infected['timestamp'].unique():\n",
        "      temp_raw = raw_data_infected.loc[raw_data_infected['timestamp'] == t]\n",
        "      temp_G = nx.from_pandas_edgelist(temp_raw[['node1','node2']],source='node1',target='node2')\n",
        "\n",
        "      for n in temp_G.nodes():\n",
        "        if n in infected_list:\n",
        "          reinfect_list = list(temp_G.neighbors(n))\n",
        "          infected_list.extend(reinfect_list)\n",
        "          infected_list = list(dict.fromkeys(infected_list))\n",
        "\n",
        "        dict_timestamps[t] = len(infected_list)\n",
        "\n",
        "      dict_values[g] = dict_timestamps\n",
        "\n",
        "  df = pd.DataFrame.from_dict(dict_values)\n",
        "  df = df.reset_index(drop=True)\n",
        "  return df"
      ],
      "execution_count": null,
      "outputs": []
    },
    {
      "cell_type": "code",
      "metadata": {
        "id": "zjWZXTeSd38B"
      },
      "source": [
        "dfB = infection_simulation(G)\n",
        "dfB.to_csv('partBG1.csv',index = False)"
      ],
      "execution_count": null,
      "outputs": []
    },
    {
      "cell_type": "code",
      "metadata": {
        "id": "6OqtX0WIN-fP"
      },
      "source": [
        "dfB = pd.read_csv('/content/partBG1.csv')"
      ],
      "execution_count": null,
      "outputs": []
    },
    {
      "cell_type": "markdown",
      "metadata": {
        "id": "qlN2Z6TOUutm"
      },
      "source": [
        "Question 9 - Taking all the N iterations into count, plot the average number of infected nodes E[I(t)] together with\n",
        "its error bar (standard deviation) as a function of the time step t."
      ]
    },
    {
      "cell_type": "code",
      "metadata": {
        "id": "Qkzi6DlsPlsX"
      },
      "source": [
        "dfB_mean = dfB.mean(axis=1)\n",
        "dfB_std = dfB.std(axis=1)\n",
        "x_axis = range(len(dfB_mean))"
      ],
      "execution_count": null,
      "outputs": []
    },
    {
      "cell_type": "code",
      "metadata": {
        "colab": {
          "base_uri": "https://localhost:8080/",
          "height": 562
        },
        "id": "BazMtCM5TE5l",
        "outputId": "10aa57d9-4590-406b-b180-a8ad4e7e615d"
      },
      "source": [
        "plt.figure(figsize=(6, 4)) \n",
        "plt.plot(x_axis[:], dfB_mean[:],'go-',linestyle = 'None')\n",
        "plt.xlabel('Timestamp')\n",
        "plt.ylabel('Average Infected Nodes')\n",
        "\n",
        "axes = plt.gca()\n",
        "axes.set_xlim([0,57791])\n",
        "axes.set_ylim([0,170])\n",
        "\n",
        "plt.figure()\n",
        "plt.plot(x_axis[:], dfB_std[:],'go-',linestyle = 'None')\n",
        "plt.xlabel('Timestamp')\n",
        "plt.ylabel('Standard Deviation Infected Nodes')\n",
        "\n",
        "axes = plt.gca()\n",
        "axes.set_xlim([0,57791])\n",
        "axes.set_ylim([0,60])"
      ],
      "execution_count": null,
      "outputs": [
        {
          "output_type": "execute_result",
          "data": {
            "text/plain": [
              "(0.0, 60.0)"
            ]
          },
          "metadata": {
            "tags": []
          },
          "execution_count": 75
        },
        {
          "output_type": "display_data",
          "data": {
            "image/png": "[encoded data removed]",
            "text/plain": [
              "<Figure size 432x288 with 1 Axes>"
            ]
          },
          "metadata": {
            "tags": [],
            "needs_background": "light"
          }
        },
        {
          "output_type": "display_data",
          "data": {
            "image/png": "[encoded data removed]",
            "text/plain": [
              "<Figure size 432x288 with 1 Axes>"
            ]
          },
          "metadata": {
            "tags": [],
            "needs_background": "light"
          }
        }
      ]
    },
    {
      "cell_type": "code",
      "metadata": {
        "colab": {
          "base_uri": "https://localhost:8080/",
          "height": 286
        },
        "id": "yiK45xyMVibc",
        "outputId": "4a9e6d45-0876-46ec-ab2b-80c29e1f43c3"
      },
      "source": [
        "plt.errorbar(x_axis[:],dfB_mean[:],yerr = dfB_std[:],ecolor='g',elinewidth=5,mec='green',mfc='red')"
      ],
      "execution_count": null,
      "outputs": [
        {
          "output_type": "execute_result",
          "data": {
            "text/plain": [
              "<ErrorbarContainer object of 3 artists>"
            ]
          },
          "metadata": {
            "tags": []
          },
          "execution_count": 73
        },
        {
          "output_type": "display_data",
          "data": {
            "image/png": "[encoded data removed]",
            "text/plain": [
              "<Figure size 432x288 with 1 Axes>"
            ]
          },
          "metadata": {
            "tags": [],
            "needs_background": "light"
          }
        }
      ]
    },
    {
      "cell_type": "markdown",
      "metadata": {
        "id": "KGmXSAsxY041"
      },
      "source": [
        "Question 10 - How influential a node is as a seed node could be partially reflected by the time it takes to reach/infect\n",
        "80% of the total nodes when this node is selected as the seed node. The shorter the time is, the more influential\n",
        "the seed node is. Using this standard to rank the in\n",
        "uence of all the nodes and record the ranking in a vector\n",
        "R = [R(1),R(2),...,R(N)] where R(i) is the node index of the i-th most influential seed node and R(1) is the\n",
        "most influential node that infects 80% nodes in the shortest time."
      ]
    },
    {
      "cell_type": "code",
      "metadata": {
        "colab": {
          "base_uri": "https://localhost:8080/"
        },
        "id": "KqucXEM0e8yJ",
        "outputId": "76ec9d6a-0c99-4a2e-d4e4-80d25c4e8681"
      },
      "source": [
        "threshold = math.ceil(0.8*len(list(G.nodes())))\n",
        "threshold"
      ],
      "execution_count": 14,
      "outputs": [
        {
          "output_type": "execute_result",
          "data": {
            "text/plain": [
              "134"
            ]
          },
          "metadata": {
            "tags": []
          },
          "execution_count": 14
        }
      ]
    },
    {
      "cell_type": "code",
      "metadata": {
        "id": "oGs9IjLXVJ9r"
      },
      "source": [
        "r_values = dict()\n",
        "for c in dfB.columns.to_list():\n",
        "    try:\n",
        "        r_values[c] = dfB.index[dfB[c]>=threshold].to_list()[0] + 1\n",
        "    except:\n",
        "        r_values[c] = dfB.index[dfB[c]==dfB[c].max()].to_list()[-1] + 1"
      ],
      "execution_count": null,
      "outputs": []
    },
    {
      "cell_type": "code",
      "metadata": {
        "id": "k9MUn0F3YV4Y"
      },
      "source": [
        "sorted_r = dict(sorted(r_values.items(), key=lambda item: item[1]))"
      ],
      "execution_count": null,
      "outputs": []
    },
    {
      "cell_type": "markdown",
      "metadata": {
        "id": "nhKcyK5FY3vg"
      },
      "source": [
        "Question 11 - We are going to explore which nodal level network feature in the aggregated network G could well suggest\n",
        "the nodal influence discussed in 10). Compute the degree and strength2 of each node in the aggregated network\n",
        "G and rank the importance of the nodes according to these two centrality metrics respectively. You obtain the\n",
        "ordered vector D = [D(1);D(2),...,D(N)] and S = [S(1); S(2),...,S(N)], where D(i) is the node having the ith\n",
        "highest degree and S(i) is the node with the ith highest strength. How precisely a centrality metric e.g. the\n",
        "degree could predict seed nodes' influence could be quantified by the top f recognition rate rRD(f) = |Rf & Df| /\n",
        "|Rf| where Rf and Df are the sets of nodes ranking in the top f fraction according to their influence and degree\n",
        "respectively and |Rf| = fN is the number of nodes in Rf . Plot rRD(f) and rRS(f) as a function of f where\n",
        "f = 0:05, 0:1, 0:15,..., 0:5. Which metric, the degree or the strength could better predict the influence of the nodes? "
      ]
    },
    {
      "cell_type": "code",
      "metadata": {
        "id": "wXJbx0-YY45m"
      },
      "source": [
        "degree_dict = dict(G.degree(G.nodes()))\n",
        "sorted_degree = dict(sorted(degree_dict.items(), key=lambda item: item[1],reverse=True))"
      ],
      "execution_count": null,
      "outputs": []
    },
    {
      "cell_type": "code",
      "metadata": {
        "id": "BC141iFaasJW"
      },
      "source": [
        "strength = grouped_weight.groupby('node1').sum().reset_index().drop(['node2'],axis=1).sort_values('weight',ascending=False)\n",
        "strength_dict = pd.Series(strength.weight.values,index=strength.node1).to_dict()"
      ],
      "execution_count": null,
      "outputs": []
    },
    {
      "cell_type": "code",
      "metadata": {
        "id": "PlDJ6b4SgoSq"
      },
      "source": [
        "def recognition_rate(infection_metric, graph_metric):\n",
        "  result = []\n",
        "  for i in np.arange(0.05, 0.55, 0.05):\n",
        "    f = round(i*len(infection_metric))\n",
        "    result.append(len(set(infection_metric[:f]) & set(list(graph_metric.keys())[:f]))/len(infection_metric[:f]))\n",
        "  return result"
      ],
      "execution_count": null,
      "outputs": []
    },
    {
      "cell_type": "code",
      "metadata": {
        "id": "EwrFbUKKfUqr"
      },
      "source": [
        "r_RD = recognition_rate(r_list_int, sorted_degree)"
      ],
      "execution_count": null,
      "outputs": []
    },
    {
      "cell_type": "code",
      "metadata": {
        "id": "z9qsIBfTkmxF"
      },
      "source": [
        "r_RS = recognition_rate(r_list_int, strength_dict)"
      ],
      "execution_count": null,
      "outputs": []
    },
    {
      "cell_type": "code",
      "metadata": {
        "colab": {
          "base_uri": "https://localhost:8080/",
          "height": 313
        },
        "id": "ZHDkFPCtlWqA",
        "outputId": "abe74e18-0656-4269-8e2c-44f931716eee"
      },
      "source": [
        "plt.figure(figsize=(6, 4)) \n",
        "plt.plot(np.arange(0.05, 0.55, 0.05)[:], r_RD[:],'go-',linestyle = 'None',label = 'Degree')\n",
        "plt.xlabel('f')\n",
        "plt.ylabel('Recognition Rate')\n",
        "\n",
        "plt.plot(np.arange(0.05, 0.55, 0.05)[:], r_RS[:],'ro-',linestyle = 'None',label = 'Strength')\n",
        "plt.xlabel('f')\n",
        "plt.ylabel('Recognition Rate')\n",
        "plt.legend()\n",
        "plt.figure()"
      ],
      "execution_count": null,
      "outputs": [
        {
          "output_type": "execute_result",
          "data": {
            "text/plain": [
              "<Figure size 432x288 with 0 Axes>"
            ]
          },
          "metadata": {
            "tags": []
          },
          "execution_count": 150
        },
        {
          "output_type": "display_data",
          "data": {
            "image/png": "[encoded data removed]",
            "text/plain": [
              "<Figure size 432x288 with 1 Axes>"
            ]
          },
          "metadata": {
            "tags": [],
            "needs_background": "light"
          }
        },
        {
          "output_type": "display_data",
          "data": {
            "text/plain": [
              "<Figure size 432x288 with 0 Axes>"
            ]
          },
          "metadata": {
            "tags": []
          }
        }
      ]
    },
    {
      "cell_type": "markdown",
      "metadata": {
        "id": "5r-LTQYmMbAy"
      },
      "source": [
        "Question 12 - Propose another two nodal/centrality features that could possibly well predict nodes' influence. The\n",
        "previous two features are all based on the aggregated network. At least one feature that you are going to\n",
        "propose should take nodal temporal features into account. Compare the two features you proposed and the two\n",
        "features proposed in question 11): which feature better/badly reflects how influential a node is and why?"
      ]
    },
    {
      "cell_type": "code",
      "metadata": {
        "id": "jMw-1rhsUgmb"
      },
      "source": [
        "centrality_dict = dict(nx.betweenness_centrality(G))\n",
        "centrality_dict = dict(sorted(centrality_dict.items(), key=lambda item: item[1],reverse=True))"
      ],
      "execution_count": null,
      "outputs": []
    },
    {
      "cell_type": "code",
      "metadata": {
        "id": "YEsYmPvWUo4n"
      },
      "source": [
        "r_RB = recognition_rate(r_list_int, centrality_dict)"
      ],
      "execution_count": null,
      "outputs": []
    },
    {
      "cell_type": "code",
      "metadata": {
        "id": "e7ui8WyTeIh_"
      },
      "source": [
        "# Time based metric - Average degree with time\n",
        "dict_cent = {k: [] for k in range(1,168)}\n",
        "\n",
        "for t in raw_data['timestamp'].unique():\n",
        "    temp_raw = raw_data.loc[raw_data['timestamp'] == t]\n",
        "    print(\"Timestamp\",t)\n",
        "    temp_G = nx.from_pandas_edgelist(temp_raw[['node1','node2']],source='node1',target='node2')\n",
        "    for g in temp_G.nodes():\n",
        "\n",
        "      deg = temp_G.degree[g]\n",
        "\n",
        "      dict_cent[g].append(deg)\n",
        "\n",
        "print(dict_cent)"
      ],
      "execution_count": null,
      "outputs": []
    },
    {
      "cell_type": "code",
      "metadata": {
        "id": "yvgis8OtuCEP"
      },
      "source": [
        "dict_avg_degree_time = dict_cent.copy()\n",
        "for i in dict_avg_degree_time.keys():\n",
        "  dict_avg_degree_time[i] = round(sum(dict_avg_degree_time[i])/len(dict_avg_degree_time[i]),4) \n"
      ],
      "execution_count": null,
      "outputs": []
    },
    {
      "cell_type": "code",
      "metadata": {
        "id": "V5fP14yiw1yJ"
      },
      "source": [
        "dict_avg_degree_time = dict(sorted(dict_avg_degree_time.items(), key=lambda item: item[1],reverse=True))"
      ],
      "execution_count": null,
      "outputs": []
    },
    {
      "cell_type": "code",
      "metadata": {
        "id": "bNXJZ6L_xFlq"
      },
      "source": [
        "r_RC = recognition_rate(r_list_int, dict_avg_degree_time)"
      ],
      "execution_count": null,
      "outputs": []
    },
    {
      "cell_type": "code",
      "metadata": {
        "colab": {
          "base_uri": "https://localhost:8080/",
          "height": 314
        },
        "id": "pnfGKMGS1zBM",
        "outputId": "71d1d419-2d09-474c-f5ee-7617709104a2"
      },
      "source": [
        "plt.figure(figsize=(6, 4)) \n",
        "plt.plot(np.arange(0.05, 0.55, 0.05)[:], r_RC[:],'go-',linestyle = 'None',label = 'Average Degree through time')\n",
        "plt.xlabel('f')\n",
        "plt.ylabel('Recognition Rate')\n",
        "plt.plot(np.arange(0.05, 0.55, 0.05)[:], r_RB[:],'ro-',linestyle = 'None',label = 'Betweenness Centrality')\n",
        "plt.xlabel('f')\n",
        "plt.ylabel('Recognition Rate')\n",
        "plt.legend()\n",
        "plt.figure()"
      ],
      "execution_count": null,
      "outputs": [
        {
          "output_type": "execute_result",
          "data": {
            "text/plain": [
              "<Figure size 432x288 with 0 Axes>"
            ]
          },
          "metadata": {
            "tags": []
          },
          "execution_count": 75
        },
        {
          "output_type": "display_data",
          "data": {
            "image/png": "[encoded data removed]",
            "text/plain": [
              "<Figure size 432x288 with 1 Axes>"
            ]
          },
          "metadata": {
            "tags": [],
            "needs_background": "light"
          }
        },
        {
          "output_type": "display_data",
          "data": {
            "text/plain": [
              "<Figure size 432x288 with 0 Axes>"
            ]
          },
          "metadata": {
            "tags": []
          }
        }
      ]
    },
    {
      "cell_type": "markdown",
      "metadata": {
        "id": "QEycKYJMrWc2"
      },
      "source": [
        "Question 13 - How in\n",
        "uential a node is as a seed node can be also re\n",
        "ected by the average time for the information\n",
        "started by this seed at t = 0 to reach a node that belongs to the set M of 80% \u0001 N nodes that are reached\n",
        "earliest in time. Use this standard to rank the in\n",
        "uence of all the nodes and record the ranking in a vector\n",
        "R0 = [R0(1), R0(2),..., R0(N)]. Which metric, R, the degree or the strength, could better predict the influence\n",
        "ranking R0 ? Hint: use the method proposed in 11), Influence standard in 13) considers the average time to\n",
        "infect a node in M whereas the influence standard in 10) considers the maximal time to infect a node in M."
      ]
    },
    {
      "cell_type": "code",
      "metadata": {
        "id": "5MgQ3xRers4k"
      },
      "source": [
        "# A more efficient implementation which can be used an alternate template for def infection_simulation()\n",
        "\n",
        "dict1 = {n: {x: False for x in range(1,G.number_of_nodes()+1)} for n in range(1,G.number_of_nodes()) }\n",
        "dict2 = {n: {y: 57791 for y in range(1, G.number_of_nodes())} for n in range(1,G.number_of_nodes()) }\n",
        "dict3 = dict()\n",
        "print(dict1)\n",
        "print(dict2)\n",
        "for n in range (1,G.number_of_nodes()):\n",
        "  print(\"Node \",n)\n",
        "  dict1[n][n] = True\n",
        "\n",
        "  for index, row in raw_data.iterrows():\n",
        "\n",
        "    if dict1[n][row['node1']] == True:\n",
        "\n",
        "      if dict1[n][row['node2']] == False:\n",
        "\n",
        "        dict1[n][row['node2']] = True\n",
        "\n",
        "        dict2[n][row['node2']] = row['timestamp']\n",
        "\n",
        "\n",
        "    elif dict1[n][row['node2']] == True:\n",
        "      if dict1[n][row['node1']] == False:\n",
        "        dict1[n][row['node1']] = True\n",
        "\n",
        "        dict2[n][row['node1']] = row['timestamp']\n",
        "\n",
        "  dict2[n].pop(n)\n",
        "  dict3[n] = np.mean(list(dict2[n].values()))"
      ],
      "execution_count": null,
      "outputs": []
    },
    {
      "cell_type": "code",
      "metadata": {
        "id": "iGgRI0uAsJS_"
      },
      "source": [
        "dict_Rp = dict3.copy()\n",
        "Rp_nodes = sorted(dict_Rp, key=dict_Rp.get,reverse=False)"
      ],
      "execution_count": null,
      "outputs": []
    },
    {
      "cell_type": "code",
      "metadata": {
        "id": "FSHYRaKT1Vi9"
      },
      "source": [
        "rp_RD = recognition_rate(Rp_nodes, sorted_degree)"
      ],
      "execution_count": null,
      "outputs": []
    },
    {
      "cell_type": "code",
      "metadata": {
        "id": "wIVyR_hS1fkZ"
      },
      "source": [
        "rp_RS = recognition_rate(Rp_nodes, strength_dict)"
      ],
      "execution_count": null,
      "outputs": []
    },
    {
      "cell_type": "code",
      "metadata": {
        "id": "2mU6PpUD2AXj"
      },
      "source": [
        "rp_R = recognition_rate(Rp_nodes, sorted_r)"
      ],
      "execution_count": null,
      "outputs": []
    },
    {
      "cell_type": "code",
      "metadata": {
        "colab": {
          "base_uri": "https://localhost:8080/",
          "height": 352
        },
        "id": "71y2zo-HO9jp",
        "outputId": "f1d40a5a-5012-4d4e-81dc-21770ae43c9a"
      },
      "source": [
        "x_range = np.arange(0.05, 0.55, 0.05)\n",
        "plt.figure(figsize=(6, 4)) \n",
        "plt.plot(x_range[:], rp_RD[:],'go-',linestyle = 'None',label = 'Degree')\n",
        "plt.xlabel('f')\n",
        "plt.ylabel('Recognition Rate')\n",
        "\n",
        "\n",
        "print(rp_R)\n",
        "plt.plot(x_range[:], rp_R[:],'bo-',linestyle = 'None',label = 'R')\n",
        "plt.xlabel('f')\n",
        "plt.ylabel('Recognition Rate')\n",
        "\n",
        "\n",
        "\n",
        "plt.plot(x_range[:], rp_RS[:],'ro-',linestyle = 'None',label = 'Strength')\n",
        "plt.xlabel('f')\n",
        "plt.ylabel('Recognition Rate')\n",
        "plt.legend()\n",
        "\n",
        "\n",
        "plt.figure()"
      ],
      "execution_count": null,
      "outputs": [
        {
          "output_type": "stream",
          "text": [
            "[1.0, 0.7647058823529411, 0.76, 0.7575757575757576, 0.7380952380952381, 0.84, 0.8620689655172413, 0.8656716417910447, 0.9466666666666667, 0.9404761904761905]\n"
          ],
          "name": "stdout"
        },
        {
          "output_type": "execute_result",
          "data": {
            "text/plain": [
              "<Figure size 432x288 with 0 Axes>"
            ]
          },
          "metadata": {
            "tags": []
          },
          "execution_count": 147
        },
        {
          "output_type": "display_data",
          "data": {
            "image/png": "[encoded data removed]",
            "text/plain": [
              "<Figure size 432x288 with 1 Axes>"
            ]
          },
          "metadata": {
            "tags": [],
            "needs_background": "light"
          }
        },
        {
          "output_type": "display_data",
          "data": {
            "text/plain": [
              "<Figure size 432x288 with 0 Axes>"
            ]
          },
          "metadata": {
            "tags": []
          }
        }
      ]
    },
    {
      "cell_type": "markdown",
      "metadata": {
        "id": "EOtC1blvMjPh"
      },
      "source": [
        "# **Part C - Influence of temporal network features on information spreading.**"
      ]
    },
    {
      "cell_type": "markdown",
      "metadata": {
        "id": "bQpks6YGmM4U"
      },
      "source": [
        "Question 14 - Construct the following three temporal networks. G2 is exactly the same as Gdata except that the timestamps describing when each temporal link (contact) appears in Gdata are randomised in G2. In other words,\n",
        "G2 is constructed by copying all the temporal links {(a,b,t)} from Gdata but their time stamps t are randomly\n",
        "re-shuffled. The number of contacts between each node pair is the same between Gdata and G2. [A time stamp\n",
        "vector v, whose length equals the number of contacts, can be randomly reshuffled to a vector v2 of the same\n",
        "length by assigning each element in v to a randomly selected position in vector v2 while avoiding more than\n",
        "one elements from v assigned to the same position in v2]. G3 is constructed by the following steps: G3\n",
        "has the same topology as G, which is an unweighted network. Secondly, assign the time stamps in Gdata to the links in\n",
        "G3 randomly. A link in G3\n",
        "may receive more than one time stamps, meaning that the two nodes contact more\n",
        "than once. A link in G3\n",
        "receives no time stamp means that there is no contact between the corresponding two\n",
        "nodes. G3 is a temporal network composed of all these contacts and has the same number of contacts as Gdata"
      ]
    },
    {
      "cell_type": "code",
      "metadata": {
        "id": "CbghSh6zaGoZ"
      },
      "source": [
        "raw_data_timeless = raw_data[['node1','node2']]\n",
        "df_grouped = raw_data_timeless.groupby(['node1','node2']).size()\n",
        "pairs = pd.DataFrame(df_grouped).reset_index()\n",
        "pairs.columns = ['node1','node2','weight']\n",
        "pairs = pairs.drop(['weight'],axis=1)"
      ],
      "execution_count": null,
      "outputs": []
    },
    {
      "cell_type": "code",
      "metadata": {
        "id": "uZP4yMylnd8v"
      },
      "source": [
        "def inter_arrival_times(edgewiseData, raw_data):\n",
        "  total_time_diff = []\n",
        "  for i in range(len(edgewiseData)):\n",
        "    n1 = edgewiseData.iloc[0]['node1']\n",
        "    n2 = edgewiseData.iloc[0]['node2']\n",
        "    time = list(raw_data.loc[(raw_data['node1'] == n1) & (raw_data['node2'] == n2)]['timestamp'].unique())\n",
        "    time_diff = [x - time[i - 1] for i, x in enumerate(time) if i > 0]\n",
        "    total_time_diff.extend(time_diff)\n"
      ],
      "execution_count": null,
      "outputs": []
    },
    {
      "cell_type": "code",
      "metadata": {
        "id": "1hz8u333oCcX"
      },
      "source": [
        "total_time_diff_G1 = inter_arrival_times(pairs, raw_data.copy())"
      ],
      "execution_count": null,
      "outputs": []
    },
    {
      "cell_type": "code",
      "metadata": {
        "colab": {
          "base_uri": "https://localhost:8080/",
          "height": 337
        },
        "id": "J5l5nyDlifKK",
        "outputId": "515c757e-2d5c-416e-c569-7a16b76cf7c0"
      },
      "source": [
        "sns.distplot(sorted(total_time_diff_G1), hist=True, kde=True, \n",
        "             bins=int(180/5), color = 'darkblue', \n",
        "             hist_kws={'edgecolor':'black'},\n",
        "             kde_kws={'linewidth': 4})"
      ],
      "execution_count": null,
      "outputs": [
        {
          "output_type": "stream",
          "text": [
            "/usr/local/lib/python3.7/dist-packages/seaborn/distributions.py:2557: FutureWarning: `distplot` is a deprecated function and will be removed in a future version. Please adapt your code to use either `displot` (a figure-level function with similar flexibility) or `histplot` (an axes-level function for histograms).\n",
            "  warnings.warn(msg, FutureWarning)\n"
          ],
          "name": "stderr"
        },
        {
          "output_type": "execute_result",
          "data": {
            "text/plain": [
              "<matplotlib.axes._subplots.AxesSubplot at 0x7f7b3ef8c250>"
            ]
          },
          "metadata": {
            "tags": []
          },
          "execution_count": 43
        },
        {
          "output_type": "display_data",
          "data": {
            "image/png": "[encoded data removed]",
            "text/plain": [
              "<Figure size 432x288 with 1 Axes>"
            ]
          },
          "metadata": {
            "tags": [],
            "needs_background": "light"
          }
        }
      ]
    },
    {
      "cell_type": "markdown",
      "metadata": {
        "id": "greAkLdQM1bo"
      },
      "source": [
        "Creating G2 and calculating the inter-arrival times"
      ]
    },
    {
      "cell_type": "code",
      "metadata": {
        "id": "KQJW5xC-M3LD"
      },
      "source": [
        "data=raw_data.copy()\n",
        "data['timestamp'] = np.random.permutation(raw_data['timestamp'].values)"
      ],
      "execution_count": null,
      "outputs": []
    },
    {
      "cell_type": "code",
      "metadata": {
        "id": "SHGnX_lDNQp4"
      },
      "source": [
        "g2_raw = data[['node1','node2','timestamp']]\n",
        "g2_raw = g2_raw.sort_values(by=['timestamp','node1']).reset_index().drop(['index'],axis=1)"
      ],
      "execution_count": null,
      "outputs": []
    },
    {
      "cell_type": "code",
      "metadata": {
        "id": "VczofP39NmYv"
      },
      "source": [
        "raw_data_timeless = g2_raw[['node1','node2']]\n",
        "df_grouped = raw_data_timeless.groupby(['node1','node2']).size()\n",
        "pairs_G2 = pd.DataFrame(df_grouped).reset_index()\n",
        "pairs_G2.columns = ['node1','node2','weight']\n",
        "pairs_G2 = pairs_G2.drop(['weight'],axis=1)"
      ],
      "execution_count": null,
      "outputs": []
    },
    {
      "cell_type": "code",
      "metadata": {
        "id": "1EY1cYTzooPs"
      },
      "source": [
        "total_time_diff_G2 = inter_arrival_times(pairs_G2, g2_raw.copy())"
      ],
      "execution_count": null,
      "outputs": []
    },
    {
      "cell_type": "code",
      "metadata": {
        "colab": {
          "base_uri": "https://localhost:8080/",
          "height": 337
        },
        "id": "RFF03U51OnIF",
        "outputId": "6b1a14fa-2d4c-4a93-f2a5-321d70ef2c46"
      },
      "source": [
        "sns.distplot(sorted(total_time_diff_G2), hist=True, kde=True, \n",
        "             bins=int(180/5), color = 'darkblue', \n",
        "             hist_kws={'edgecolor':'black'},\n",
        "             kde_kws={'linewidth': 4})"
      ],
      "execution_count": null,
      "outputs": [
        {
          "output_type": "stream",
          "text": [
            "/usr/local/lib/python3.7/dist-packages/seaborn/distributions.py:2557: FutureWarning: `distplot` is a deprecated function and will be removed in a future version. Please adapt your code to use either `displot` (a figure-level function with similar flexibility) or `histplot` (an axes-level function for histograms).\n",
            "  warnings.warn(msg, FutureWarning)\n"
          ],
          "name": "stderr"
        },
        {
          "output_type": "execute_result",
          "data": {
            "text/plain": [
              "<matplotlib.axes._subplots.AxesSubplot at 0x7f7b49f69810>"
            ]
          },
          "metadata": {
            "tags": []
          },
          "execution_count": 27
        },
        {
          "output_type": "display_data",
          "data": {
            "image/png": "[encoded data removed]",
            "text/plain": [
              "<Figure size 432x288 with 1 Axes>"
            ]
          },
          "metadata": {
            "tags": [],
            "needs_background": "light"
          }
        }
      ]
    },
    {
      "cell_type": "markdown",
      "metadata": {
        "id": "tqbVfXdZo_y2"
      },
      "source": [
        "Creating G3 and calculating the inter-arrival times"
      ]
    },
    {
      "cell_type": "code",
      "metadata": {
        "id": "l9_CS6wtgm9m"
      },
      "source": [
        "g3_raw = raw_data.copy()\n",
        "g3_raw['timestamp'] = np.random.randint(low = 1, high = 57791, size = (len(raw_data),1))\n",
        "g3_raw = g3_raw.sort_values(by=['timestamp','node1']).reset_index().drop(['index'],axis=1)"
      ],
      "execution_count": null,
      "outputs": []
    },
    {
      "cell_type": "code",
      "metadata": {
        "id": "kcEq0jkjgxOE"
      },
      "source": [
        "raw_data_timeless = g3_raw[['node1','node2']]\n",
        "df_grouped = raw_data_timeless.groupby(['node1','node2']).size()\n",
        "pairs_G3 = pd.DataFrame(df_grouped).reset_index()\n",
        "pairs_G3.columns = ['node1','node2','weight']\n",
        "pairs_G3 = pairs_G3.drop(['weight'],axis=1)"
      ],
      "execution_count": null,
      "outputs": []
    },
    {
      "cell_type": "code",
      "metadata": {
        "id": "Yk_3rn-zpYfg"
      },
      "source": [
        "total_time_diff_G3 = inter_arrival_times(pairs_G3, g3_raw.copy())"
      ],
      "execution_count": null,
      "outputs": []
    },
    {
      "cell_type": "code",
      "metadata": {
        "colab": {
          "base_uri": "https://localhost:8080/",
          "height": 340
        },
        "id": "mh966lBbi9Tk",
        "outputId": "316c0465-8d85-45a5-a2b7-e255f0727938"
      },
      "source": [
        "sns.distplot(sorted(total_time_diff_G3), hist=True, kde=True, \n",
        "             bins=int(180/5), color = 'darkblue', \n",
        "             hist_kws={'edgecolor':'black'},\n",
        "             kde_kws={'linewidth': 4})"
      ],
      "execution_count": null,
      "outputs": [
        {
          "output_type": "stream",
          "text": [
            "/usr/local/lib/python3.7/dist-packages/seaborn/distributions.py:2557: FutureWarning: `distplot` is a deprecated function and will be removed in a future version. Please adapt your code to use either `displot` (a figure-level function with similar flexibility) or `histplot` (an axes-level function for histograms).\n",
            "  warnings.warn(msg, FutureWarning)\n"
          ],
          "name": "stderr"
        },
        {
          "output_type": "execute_result",
          "data": {
            "text/plain": [
              "<matplotlib.axes._subplots.AxesSubplot at 0x7f7b3fbd8cd0>"
            ]
          },
          "metadata": {
            "tags": []
          },
          "execution_count": 34
        },
        {
          "output_type": "display_data",
          "data": {
            "image/png": "[encoded data removed]",
            "text/plain": [
              "<Figure size 432x288 with 1 Axes>"
            ]
          },
          "metadata": {
            "tags": [],
            "needs_background": "light"
          }
        }
      ]
    },
    {
      "cell_type": "markdown",
      "metadata": {
        "id": "dxoH6vkGjLb_"
      },
      "source": [
        "Question 15 - Simulate exactly the same information spreading process on G2 and G3 as described in B. On each\n",
        "temporal network, N iterations of the spreading processes are simulated and each iteration starts at a di\u000berent\n",
        "seed node. Plot the average number of infected nodes E[I(t)] and the standard deviation as a\n",
        "function of the time step t for Gdata, G2 and G3 respectively. Compare and rank the information spreading\n",
        "performance (e.g. prevalence or speed of the spread) on these three temporal networks. Interpret/explain your\n",
        "observation. E.g. which temporal network features could possibly explain the different spreading performance?"
      ]
    },
    {
      "cell_type": "code",
      "metadata": {
        "id": "vhxH4lk7jA4r"
      },
      "source": [
        "G2 = nx.convert_matrix.from_pandas_edgelist(g2_raw, source = 'node1', target = 'node2')\n",
        "dfG2 = infection_simulation(G2)\n",
        "dfG2_mean = dfG2.mean(axis=1)\n",
        "dfG2_std = dfG2.std(axis=1)\n",
        "x_axis = range(len(dfG2_mean))"
      ],
      "execution_count": null,
      "outputs": []
    },
    {
      "cell_type": "code",
      "metadata": {
        "colab": {
          "base_uri": "https://localhost:8080/",
          "height": 591
        },
        "id": "0xRJg0pgmbCc",
        "outputId": "b32939e4-91c6-465b-b812-4b0cfbb967ea"
      },
      "source": [
        "plt.figure(figsize=(6, 4)) \n",
        "plt.plot(x_axis[:], dfG2_mean[:],'go-',linestyle = 'None')\n",
        "plt.xlabel('Timestamp')\n",
        "plt.ylabel('Average Infected Nodes')\n",
        "plt.title(\"G2\")\n",
        "\n",
        "axes = plt.gca()\n",
        "axes.set_xlim([0,57791])\n",
        "axes.set_ylim([0,170])\n",
        "\n",
        "plt.figure()\n",
        "plt.plot(x_axis[:], dfG2_std[:],'go-',linestyle = 'None')\n",
        "plt.xlabel('Timestamp')\n",
        "plt.ylabel('Standard Deviation Infected Nodes')\n",
        "plt.title(\"G2\")\n",
        "\n",
        "axes = plt.gca()\n",
        "axes.set_xlim([0,57791])\n",
        "axes.set_ylim([0,60])"
      ],
      "execution_count": null,
      "outputs": [
        {
          "output_type": "execute_result",
          "data": {
            "text/plain": [
              "(0.0, 60.0)"
            ]
          },
          "metadata": {
            "tags": []
          },
          "execution_count": 65
        },
        {
          "output_type": "display_data",
          "data": {
            "image/png": "[encoded data removed]",
            "text/plain": [
              "<Figure size 432x288 with 1 Axes>"
            ]
          },
          "metadata": {
            "tags": [],
            "needs_background": "light"
          }
        },
        {
          "output_type": "display_data",
          "data": {
            "image/png": "[encoded data removed]",
            "text/plain": [
              "<Figure size 432x288 with 1 Axes>"
            ]
          },
          "metadata": {
            "tags": [],
            "needs_background": "light"
          }
        }
      ]
    },
    {
      "cell_type": "code",
      "metadata": {
        "colab": {
          "base_uri": "https://localhost:8080/",
          "height": 591
        },
        "id": "7cGgHuAKnaAk",
        "outputId": "9d474ed4-75ab-4b89-a84b-4572ca1fc022"
      },
      "source": [
        "plt.figure(figsize=(6, 4)) \n",
        "plt.plot(x_axis[:], dfB_mean[:],'go-',linestyle = 'None')\n",
        "plt.xlabel('Timestamp')\n",
        "plt.ylabel('Average Infected Nodes')\n",
        "plt.title(\"Gdata\")\n",
        "\n",
        "axes = plt.gca()\n",
        "axes.set_xlim([0,57791])\n",
        "axes.set_ylim([0,170])\n",
        "\n",
        "\n",
        "plt.figure()\n",
        "plt.plot(x_axis[:], dfB_std[:],'go-',linestyle = 'None')\n",
        "plt.xlabel('Timestamp')\n",
        "plt.ylabel('Standard Deviation Infected Nodes')\n",
        "plt.title(\"Gdata\")\n",
        "\n",
        "axes = plt.gca()\n",
        "axes.set_xlim([0,57791])\n",
        "axes.set_ylim([0,60])"
      ],
      "execution_count": null,
      "outputs": [
        {
          "output_type": "execute_result",
          "data": {
            "text/plain": [
              "(0.0, 60.0)"
            ]
          },
          "metadata": {
            "tags": []
          },
          "execution_count": 76
        },
        {
          "output_type": "display_data",
          "data": {
            "image/png": "[encoded data removed]",
            "text/plain": [
              "<Figure size 432x288 with 1 Axes>"
            ]
          },
          "metadata": {
            "tags": [],
            "needs_background": "light"
          }
        },
        {
          "output_type": "display_data",
          "data": {
            "image/png": "[encoded data removed]",
            "text/plain": [
              "<Figure size 432x288 with 1 Axes>"
            ]
          },
          "metadata": {
            "tags": [],
            "needs_background": "light"
          }
        }
      ]
    },
    {
      "cell_type": "code",
      "metadata": {
        "id": "qDVvACqFoAZX"
      },
      "source": [
        "G3 = nx.convert_matrix.from_pandas_edgelist(g3_raw, source = 'node1', target = 'node2')\n",
        "dfG3 = infection_simulation(G3)\n",
        "dfG3_mean = dfG3.mean(axis=1)\n",
        "dfG3_std = dfG3.std(axis=1)\n",
        "x_axis = range(len(dfG3_mean))"
      ],
      "execution_count": null,
      "outputs": []
    },
    {
      "cell_type": "code",
      "metadata": {
        "colab": {
          "base_uri": "https://localhost:8080/",
          "height": 591
        },
        "id": "0bVqelrUoJhz",
        "outputId": "985a88fe-37ad-4f83-ee7a-d23b7e0c206e"
      },
      "source": [
        "plt.figure(figsize=(6, 4)) \n",
        "plt.plot(x_axis[:], dfG3_mean[:],'go-',linestyle = 'None')\n",
        "plt.xlabel('Timestamp')\n",
        "plt.ylabel('Average Infected Nodes')\n",
        "plt.title(\"G3\")\n",
        "\n",
        "axes = plt.gca()\n",
        "axes.set_xlim([0,57791])\n",
        "axes.set_ylim([0,170])\n",
        "\n",
        "\n",
        "plt.figure()\n",
        "plt.plot(x_axis[:], dfG3_std[:],'go-',linestyle = 'None')\n",
        "plt.xlabel('Timestamp')\n",
        "plt.ylabel('Standard Deviation Infected Nodes')\n",
        "plt.title(\"G3\")\n",
        "\n",
        "axes = plt.gca()\n",
        "axes.set_xlim([0,57791])\n",
        "axes.set_ylim([0,60])\n"
      ],
      "execution_count": null,
      "outputs": [
        {
          "output_type": "execute_result",
          "data": {
            "text/plain": [
              "(0.0, 60.0)"
            ]
          },
          "metadata": {
            "tags": []
          },
          "execution_count": 71
        },
        {
          "output_type": "display_data",
          "data": {
            "image/png": "[encoded data removed]",
            "text/plain": [
              "<Figure size 432x288 with 1 Axes>"
            ]
          },
          "metadata": {
            "tags": [],
            "needs_background": "light"
          }
        },
        {
          "output_type": "display_data",
          "data": {
            "image/png": "[encoded data removed]",
            "text/plain": [
              "<Figure size 432x288 with 1 Axes>"
            ]
          },
          "metadata": {
            "tags": [],
            "needs_background": "light"
          }
        }
      ]
    }
  ]
}